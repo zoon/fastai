{
 "cells": [
  {
   "cell_type": "code",
   "execution_count": 64,
   "metadata": {},
   "outputs": [],
   "source": [
    "from fastai.imports import *\n",
    "from fastai.structured import *\n",
    "from pandas_summary import DataFrameSummary\n",
    "from sklearn.ensemble import RandomForestRegressor, RandomForestClassifier\n",
    "from IPython.display import display\n",
    "\n",
    "from sklearn import metrics\n",
    "import feather\n",
    "import pdpbox.pdp as pdp\n",
    "\n",
    "from plotnine import *\n",
    "\n",
    "import numpy as np\n",
    "import pandas as pd\n",
    "import seaborn as sns\n",
    "import matplotlib.pyplot as plt\n",
    "import gc\n",
    "import os\n",
    "\n",
    "plt.rcParams[\"figure.figsize\"] = (12, 10)\n",
    "set_plot_sizes(12, 14, 16)\n",
    "np.set_printoptions(precision=5)\n",
    "pd.set_option(\"display.precision\", 5)\n",
    "%precision 5\n",
    "\n",
    "# constants #################################################################\n",
    "PATH = 'data/bulldozers/'\n",
    "\n",
    "\n",
    "# defines: ##################################################################\n",
    "def display_all(df):\n",
    "    with pd.option_context(\"display.max_rows\", 1000, \"display.max_columns\",\n",
    "                           1000):\n",
    "        display(df)\n",
    "\n",
    "\n",
    "def split_vals(a, n):\n",
    "    return a[:n].copy(), a[n:].copy()\n",
    "\n",
    "\n",
    "def rmse(x, y):\n",
    "    return math.sqrt(((x - y)**2).mean())\n",
    "\n",
    "\n",
    "def do_print_score(m, X_train, y_train, X_valid, y_valid):\n",
    "    res = [\n",
    "        rmse(m.predict(X_train), y_train),\n",
    "        rmse(m.predict(X_valid), y_valid),\n",
    "        m.score(X_train, y_train),\n",
    "        m.score(X_valid, y_valid),\n",
    "    ]\n",
    "    if hasattr(m, \"oob_score_\"):\n",
    "        res.append(m.oob_score_)\n",
    "    print(np.array(res))"
   ]
  },
  {
   "cell_type": "code",
   "execution_count": 65,
   "metadata": {},
   "outputs": [
    {
     "name": "stdout",
     "output_type": "stream",
     "text": [
      "'Data Dictionary.xlsx'\t Train.csv\t     median_benchmark.csv\r\n",
      " Machine_Appendix.csv\t Valid.csv\t     random_forest_benchmark_test.csv\r\n",
      " Test.csv\t\t ValidSolution.csv\r\n"
     ]
    }
   ],
   "source": [
    "!ls {PATH}"
   ]
  },
  {
   "cell_type": "code",
   "execution_count": 67,
   "metadata": {},
   "outputs": [
    {
     "name": "stdout",
     "output_type": "stream",
     "text": [
      "CPU times: user 57.7 s, sys: 277 ms, total: 57.9 s\n",
      "Wall time: 56.9 s\n"
     ]
    }
   ],
   "source": [
    "%%time\n",
    "df_raw = pd.read_csv(\n",
    "    f'{PATH}Train.csv', low_memory=False, parse_dates=[\"saledate\"])\n",
    "\n",
    "df_raw.SalePrice = np.log(df_raw.SalePrice)\n",
    "add_datepart(df_raw, 'saledate')\n",
    "train_cats(df_raw)\n",
    "df_raw.UsageBand = df_raw.UsageBand.cat.codes\n",
    "\n",
    "os.makedirs('tmp', exist_ok=True)\n",
    "df_raw.to_feather('tmp/bulldozers-raw')"
   ]
  },
  {
   "cell_type": "code",
   "execution_count": 95,
   "metadata": {},
   "outputs": [
    {
     "name": "stdout",
     "output_type": "stream",
     "text": [
      "CPU times: user 2.95 s, sys: 99.8 ms, total: 3.05 s\n",
      "Wall time: 541 ms\n"
     ]
    }
   ],
   "source": [
    "%%time\n",
    "df, y, nas = proc_df(df_raw, 'SalePrice')\n",
    "\n",
    "# m = RandomForestRegressor(n_jobs=-1, n_estimators=10)\n",
    "# m.fit(df, y)\n",
    "# print('%.5f' % m.score(df, y))"
   ]
  }
 ],
 "metadata": {
  "kernelspec": {
   "display_name": "Python 3",
   "language": "python",
   "name": "python3"
  },
  "language_info": {
   "codemirror_mode": {
    "name": "ipython",
    "version": 3
   },
   "file_extension": ".py",
   "mimetype": "text/x-python",
   "name": "python",
   "nbconvert_exporter": "python",
   "pygments_lexer": "ipython3",
   "version": "3.6.8"
  },
  "toc": {
   "base_numbering": 1,
   "nav_menu": {},
   "number_sections": true,
   "sideBar": true,
   "skip_h1_title": false,
   "title_cell": "Table of Contents",
   "title_sidebar": "Contents",
   "toc_cell": false,
   "toc_position": {},
   "toc_section_display": true,
   "toc_window_display": false
  }
 },
 "nbformat": 4,
 "nbformat_minor": 2
}
