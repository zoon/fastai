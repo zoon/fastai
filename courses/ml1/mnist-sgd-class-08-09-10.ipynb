{
 "cells": [
  {
   "cell_type": "markdown",
   "metadata": {},
   "source": [
    "# Using SGD on MNIST"
   ]
  },
  {
   "cell_type": "markdown",
   "metadata": {},
   "source": [
    "# Background"
   ]
  },
  {
   "cell_type": "markdown",
   "metadata": {},
   "source": [
    "# Imports and data"
   ]
  },
  {
   "cell_type": "code",
   "execution_count": 307,
   "metadata": {},
   "outputs": [],
   "source": [
    "%reload_ext autoreload\n",
    "%autoreload 2\n",
    "\n",
    "from fastai.imports import *\n",
    "from fastai.torch_imports import *\n",
    "from fastai.io import *\n",
    "import torch\n",
    "import torch.nn as nn\n",
    "from fastai.metrics import *\n",
    "from fastai.model import *\n",
    "from fastai.dataset import *\n",
    "\n",
    "from pandas_summary import DataFrameSummary\n",
    "from sklearn.ensemble import RandomForestRegressor, RandomForestClassifier\n",
    "from IPython.display import display\n",
    "from scipy.cluster import hierarchy as hc\n",
    "from treeinterpreter import treeinterpreter as ti\n",
    "\n",
    "from sklearn import metrics\n",
    "import feather\n",
    "import pdpbox.pdp as pdp\n",
    "from plotnine import *\n",
    "\n",
    "import numpy as np\n",
    "import pandas as pd\n",
    "import seaborn as sns\n",
    "import matplotlib.pyplot as plt\n",
    "import gc\n",
    "import os\n",
    "from contextlib import contextmanager\n",
    "\n",
    "plt.rcParams[\"figure.figsize\"] = (10, 6)\n",
    "np.set_printoptions(precision=5)\n",
    "pd.set_option(\"display.precision\", 5)\n",
    "%precision 5\n",
    "\n",
    "# constants #################################################################\n",
    "PATH = 'data/mnist/'\n",
    "URL = 'http://deeplearning.net/data/mnist/'\n",
    "FILENAME = 'mnist.pkl.gz'\n",
    "\n",
    "import pymorton as pm\n",
    "\n",
    "\n",
    "def morton_indexer(w, h):\n",
    "    assert w & (w - 1) == 0\n",
    "    assert h & (h - 1) == 0\n",
    "    enc = np.zeros(w * h, dtype=np.int)\n",
    "    dec = np.zeros(w * h, dtype=np.int)\n",
    "    i = 0\n",
    "    for r in range(h):\n",
    "        for c in range(w):\n",
    "            m = pm.interleave(c, r)\n",
    "            enc[i] = m\n",
    "            dec[m] = i\n",
    "            i += 1\n",
    "    return enc, dec\n",
    "\n",
    "\n",
    "def load_mnist(filename):\n",
    "    ((x, y), (x_valid, y_valid), (x_test, y_test)) = pickle.load(\n",
    "        gzip.open(filename, 'rb'), encoding='latin-1')\n",
    "    d = AttrDict(locals())\n",
    "    # normalization:\n",
    "    d.mean = d.x.mean()\n",
    "    d.std = d.x.std()\n",
    "    d.x = (d.x - d.mean) / d.std\n",
    "    d.x_valid = (d.x_valid - d.mean) / d.std\n",
    "    d.x_test = (d.x_test - d.mean) / d.std\n",
    "    # aliases\n",
    "    d.x_train = d.x\n",
    "    d.y_train = d.y\n",
    "    # format images\n",
    "    d.x_imgs = d.x_train_imgs = d.x.reshape([-1, 28, 28])\n",
    "    d.x_valid_imgs = d.x_valid.reshape([-1, 28, 28])\n",
    "    d.x_test_imgs = d.x_test.reshape([-1, 28, 28])\n",
    "    # mortonize\n",
    "    d.enc, d.dec = morton_indexer(32, 32)\n",
    "    padding = ([0, 0], [2, 2], [2, 2])\n",
    "    d.mx = np.pad(\n",
    "        d.x_imgs, padding, mode='edge').reshape(-1, 32 * 32)[:, d.enc]\n",
    "    d.mx_valid = np.pad(\n",
    "        d.x_valid_imgs, padding, mode='edge').reshape(-1, 32 * 32)[:, d.enc]\n",
    "    d_mx_train = np.pad(\n",
    "        d.x_train_imgs, padding, mode='edge').reshape(-1, 32 * 32)[:, d.enc]\n",
    "    return d\n",
    "\n",
    "\n",
    "# defines: ##################################################################\n",
    "# @contextmanager\n",
    "# def rf_samples(n='all'):\n",
    "#     if isinstance(n, int) and n > 0:\n",
    "#         set_rf_samples(n)\n",
    "#     try:\n",
    "#         yield\n",
    "#     finally:\n",
    "#         if isinstance(n, int) and n > 0:\n",
    "#             reset_rf_samples()\n",
    "\n",
    "\n",
    "# def accuracy(preds, targs):\n",
    "#     preds = torch.max(preds, dim=1)[1]\n",
    "#     return (preds==targs).float().mean()\n",
    "\n",
    "def split_vals(a, n):\n",
    "    return a[:n].copy(), a[n:].copy()\n",
    "\n",
    "\n",
    "class AttrDict(dict):\n",
    "    __getattr__ = dict.__getitem__\n",
    "    __setattr__ = dict.__setitem__"
   ]
  },
  {
   "cell_type": "code",
   "execution_count": 147,
   "metadata": {},
   "outputs": [],
   "source": [
    "os.makedirs(PATH, exist_ok=True)\n",
    "get_data(URL + FILENAME, PATH + FILENAME)"
   ]
  },
  {
   "cell_type": "code",
   "execution_count": 207,
   "metadata": {},
   "outputs": [
    {
     "data": {
      "text/plain": [
       "((50000, 784), (10000, 784), (10000, 784))"
      ]
     },
     "execution_count": 207,
     "metadata": {},
     "output_type": "execute_result"
    }
   ],
   "source": [
    "data = load_mnist(PATH+FILENAME)\n",
    "data.x.shape, data.x_valid.shape, data.x_test.shape"
   ]
  },
  {
   "cell_type": "markdown",
   "metadata": {},
   "source": [
    "## Normalization\n",
    "\n",
    "... is a part of `load_mnist`"
   ]
  },
  {
   "cell_type": "markdown",
   "metadata": {},
   "source": [
    "## Look at the data"
   ]
  },
  {
   "cell_type": "markdown",
   "metadata": {},
   "source": [
    "### Helper methods"
   ]
  },
  {
   "cell_type": "code",
   "execution_count": 5,
   "metadata": {},
   "outputs": [],
   "source": [
    "def show(img, title=None):\n",
    "    plt.imshow(img, cmap='gray')\n",
    "    if title is not None: plt.title(title)\n",
    "    plt.show()\n",
    "\n",
    "\n",
    "def show_idx(data, idx, suffix='valid'):\n",
    "    xs = data['x_' + suffix + '_imgs']\n",
    "    ys = data['y_' + suffix]\n",
    "    show(xs[idx], title='x_{}#{}: {}'.format(suffix, idx, ys[idx]))\n",
    "\n",
    "\n",
    "def plots(ims, figsize=(12, 6), rows=2, titles=None):\n",
    "    f = plt.figure(figsize=figsize)\n",
    "    cols = len(ims) // rows\n",
    "    for i in range(len(ims)):\n",
    "        sp = f.add_subplot(rows, cols, i + 1)\n",
    "        sp.axis('Off')\n",
    "        if titles is not None: sp.set_title(titles[i], fontsize=16)\n",
    "        plt.imshow(ims[i], cmap='gray')"
   ]
  },
  {
   "cell_type": "markdown",
   "metadata": {},
   "source": [
    "### Plots"
   ]
  },
  {
   "cell_type": "code",
   "execution_count": 211,
   "metadata": {},
   "outputs": [
    {
     "data": {
      "image/png": "[encoded data removed]",
      "text/plain": [
       "<Figure size 720x432 with 1 Axes>"
      ]
     },
     "metadata": {
      "needs_background": "light"
     },
     "output_type": "display_data"
    }
   ],
   "source": [
    "show(data.mx_valid[:, data.dec].reshape(-1, 32, 32)[0])"
   ]
  },
  {
   "cell_type": "code",
   "execution_count": 6,
   "metadata": {},
   "outputs": [
    {
     "data": {
      "image/png": "[encoded data removed]",
      "text/plain": [
       "<Figure size 432x288 with 1 Axes>"
      ]
     },
     "metadata": {
      "needs_background": "light"
     },
     "output_type": "display_data"
    }
   ],
   "source": [
    "show_idx(data, 5, suffix='test')"
   ]
  },
  {
   "cell_type": "code",
   "execution_count": 7,
   "metadata": {},
   "outputs": [
    {
     "data": {
      "image/png": "[encoded data removed]",
      "text/plain": [
       "<Figure size 432x288 with 1 Axes>"
      ]
     },
     "metadata": {
      "needs_background": "light"
     },
     "output_type": "display_data"
    }
   ],
   "source": [
    "show(data.x_valid_imgs[0,10:15, 10:15])"
   ]
  },
  {
   "cell_type": "code",
   "execution_count": 8,
   "metadata": {},
   "outputs": [
    {
     "data": {
      "image/png": "[encoded data removed]",
      "text/plain": [
       "<Figure size 864x432 with 8 Axes>"
      ]
     },
     "metadata": {
      "needs_background": "light"
     },
     "output_type": "display_data"
    }
   ],
   "source": [
    "plots(data.x_valid_imgs[:8], titles=data.y_valid[:8])"
   ]
  },
  {
   "cell_type": "markdown",
   "metadata": {},
   "source": [
    "# Neural Networks"
   ]
  },
  {
   "cell_type": "markdown",
   "metadata": {},
   "source": [
    "## Functions, parameters, and training"
   ]
  },
  {
   "cell_type": "markdown",
   "metadata": {},
   "source": [
    "# Neural Net for Logistic Regression in PyTorch"
   ]
  },
  {
   "cell_type": "markdown",
   "metadata": {},
   "source": [
    "## Loss functions and metrics"
   ]
  },
  {
   "cell_type": "code",
   "execution_count": 9,
   "metadata": {},
   "outputs": [],
   "source": [
    "def binary_loss(y, p):\n",
    "    return np.mean(-(y * np.log(p) + (1 - y) * np.log(1 - p)))"
   ]
  },
  {
   "cell_type": "code",
   "execution_count": 10,
   "metadata": {},
   "outputs": [
    {
     "data": {
      "text/plain": [
       "0.164252033486018"
      ]
     },
     "execution_count": 10,
     "metadata": {},
     "output_type": "execute_result"
    }
   ],
   "source": [
    "acts = np.array([1, 0, 0, 1])\n",
    "preds = np.array([0.9, 0.1, 0.2, 0.8])\n",
    "binary_loss(acts, preds)"
   ]
  },
  {
   "cell_type": "code",
   "execution_count": 11,
   "metadata": {},
   "outputs": [],
   "source": [
    "def binary_loss_if(y, p):\n",
    "    xs = np.zeros(y.shape)\n",
    "    for i in range(len(xs)):\n",
    "        if y[i] == 0:\n",
    "            xs[i] = -np.log(1 - p[i])\n",
    "        else:\n",
    "            xs[i] = -np.log(p[i])\n",
    "    return np.mean(xs)"
   ]
  },
  {
   "cell_type": "code",
   "execution_count": 12,
   "metadata": {},
   "outputs": [
    {
     "data": {
      "text/plain": [
       "0.164252033486018"
      ]
     },
     "execution_count": 12,
     "metadata": {},
     "output_type": "execute_result"
    }
   ],
   "source": [
    "acts = np.array([1, 0, 0, 1])\n",
    "preds = np.array([0.9, 0.1, 0.2, 0.8])\n",
    "binary_loss_if(acts, preds)"
   ]
  },
  {
   "cell_type": "markdown",
   "metadata": {},
   "source": [
    "## Fitting the model"
   ]
  },
  {
   "cell_type": "code",
   "execution_count": 14,
   "metadata": {},
   "outputs": [],
   "source": [
    "md = ImageClassifierData.from_arrays(PATH, (data.x, data.y),\n",
    "                                     (data.x_valid, data.y_valid))\n",
    "loss = nn.NLLLoss()\n",
    "metrics = [accuracy]"
   ]
  },
  {
   "cell_type": "code",
   "execution_count": 216,
   "metadata": {},
   "outputs": [
    {
     "data": {
      "application/vnd.jupyter.widget-view+json": {
       "model_id": "01c5bb50e50c49a49d415c5b2066a7a5",
       "version_major": 2,
       "version_minor": 0
      },
      "text/plain": [
       "HBox(children=(IntProgress(value=0, description='Epoch', max=1, style=ProgressStyle(description_width='initial…"
      ]
     },
     "metadata": {},
     "output_type": "display_data"
    },
    {
     "name": "stdout",
     "output_type": "stream",
     "text": [
      "epoch      trn_loss   val_loss   accuracy                     \n",
      "    0      0.341418   0.287234   0.9177    \n",
      "\n"
     ]
    }
   ],
   "source": [
    "net_0 = nn.Sequential(nn.Linear(28 * 28, 10), nn.LogSoftmax())\n",
    "opt_0 = optim.Adam(net_0.parameters())\n",
    "# NOTE: Loss is a 'criterion' in Torch\n",
    "fit(net_0, md, n_epochs=1, crit=loss, opt=opt_0, metrics=metrics)\n",
    "preds = predict(net_0, md.val_dl)"
   ]
  },
  {
   "cell_type": "code",
   "execution_count": 275,
   "metadata": {},
   "outputs": [
    {
     "data": {
      "application/vnd.jupyter.widget-view+json": {
       "model_id": "546fc723b579456f84247c9d1711758c",
       "version_major": 2,
       "version_minor": 0
      },
      "text/plain": [
       "HBox(children=(IntProgress(value=0, description='Epoch', max=1, style=ProgressStyle(description_width='initial…"
      ]
     },
     "metadata": {},
     "output_type": "display_data"
    },
    {
     "name": "stdout",
     "output_type": "stream",
     "text": [
      "epoch      trn_loss   val_loss   accuracy                     \n",
      "    0      0.186661   0.177169   0.9485    \n",
      "\n"
     ]
    },
    {
     "data": {
      "text/plain": [
       "[array([0.17717]), 0.9485]"
      ]
     },
     "execution_count": 275,
     "metadata": {},
     "output_type": "execute_result"
    }
   ],
   "source": [
    "# with morton\n",
    "md_m = ImageClassifierData.from_arrays(PATH, (data.mx, data.y),\n",
    "                                       (data.mx_valid, data.y_valid))\n",
    "loss = nn.NLLLoss()\n",
    "metrics = [accuracy]\n",
    "net_m = nn.Sequential(\n",
    "    nn.Linear(32 * 32, 100),\n",
    "    nn.ReLU(),\n",
    "    nn.Linear(100, 10),\n",
    "    nn.LogSoftmax())\n",
    "opt_m = optim.Adam(net_m.parameters())\n",
    "fit(net_m, md_m, n_epochs=1, crit=loss, opt=opt_m, metrics=metrics)"
   ]
  },
  {
   "cell_type": "code",
   "execution_count": 17,
   "metadata": {},
   "outputs": [
    {
     "data": {
      "text/plain": [
       "(10000, 10)"
      ]
     },
     "execution_count": 17,
     "metadata": {},
     "output_type": "execute_result"
    }
   ],
   "source": [
    "preds.shape"
   ]
  },
  {
   "cell_type": "code",
   "execution_count": 18,
   "metadata": {},
   "outputs": [
    {
     "data": {
      "text/plain": [
       "array([3, 8, 6, 9, 6])"
      ]
     },
     "execution_count": 18,
     "metadata": {},
     "output_type": "execute_result"
    }
   ],
   "source": [
    "preds.argmax(axis=1)[:5]"
   ]
  },
  {
   "cell_type": "code",
   "execution_count": 19,
   "metadata": {},
   "outputs": [
    {
     "data": {
      "text/plain": [
       "0.9212"
      ]
     },
     "execution_count": 19,
     "metadata": {},
     "output_type": "execute_result"
    }
   ],
   "source": [
    "np.mean(preds.argmax(axis=1) == data.y_valid)"
   ]
  },
  {
   "cell_type": "code",
   "execution_count": 20,
   "metadata": {},
   "outputs": [
    {
     "data": {
      "image/png": "[encoded data removed]",
      "text/plain": [
       "<Figure size 864x432 with 8 Axes>"
      ]
     },
     "metadata": {
      "needs_background": "light"
     },
     "output_type": "display_data"
    }
   ],
   "source": [
    "plots(data.x_valid_imgs[:8], titles=preds.argmax(1)[:8])"
   ]
  },
  {
   "cell_type": "markdown",
   "metadata": {},
   "source": [
    "# Defining Logistic Regression Ourselves"
   ]
  },
  {
   "cell_type": "code",
   "execution_count": 56,
   "metadata": {},
   "outputs": [],
   "source": [
    "def get_weights(*dims):\n",
    "    return nn.Parameter(\n",
    "        torch.randn(dims) / dims[0])  # Kaiming He initialization\n",
    "\n",
    "\n",
    "def softmax(x):\n",
    "    return torch.exp(x) / (torch.exp(x).sum(dim=1)[:, None])\n",
    "\n",
    "\n",
    "class LogReg(nn.Module):\n",
    "    def __init__(self):\n",
    "        super().__init__()\n",
    "        self.l1_w = get_weights(28 * 28, 10)  # Layer 1 weights\n",
    "        self.l1_b = get_weights(10)  # Layer 1 bias\n",
    "\n",
    "    def forward(self, x):\n",
    "        x = x.view(x.size(0), -1)  # torch's reshape\n",
    "        x = (x @ self.l1_w) + self.l1_b\n",
    "        x = torch.log(softmax(x))  # torchy LogSoftmax\n",
    "        return x"
   ]
  },
  {
   "cell_type": "code",
   "execution_count": 218,
   "metadata": {},
   "outputs": [
    {
     "data": {
      "application/vnd.jupyter.widget-view+json": {
       "model_id": "0697d5b5463347d2b048d72a46e6c44c",
       "version_major": 2,
       "version_minor": 0
      },
      "text/plain": [
       "HBox(children=(IntProgress(value=0, description='Epoch', max=1, style=ProgressStyle(description_width='initial…"
      ]
     },
     "metadata": {},
     "output_type": "display_data"
    },
    {
     "name": "stdout",
     "output_type": "stream",
     "text": [
      "epoch      trn_loss   val_loss   accuracy                     \n",
      "    0      0.326476   0.299335   0.9148    \n",
      "\n"
     ]
    },
    {
     "data": {
      "text/plain": [
       "[array([0.29933]), 0.9148]"
      ]
     },
     "execution_count": 218,
     "metadata": {},
     "output_type": "execute_result"
    }
   ],
   "source": [
    "net2 = LogReg()\n",
    "opt = optim.Adam(net2.parameters())\n",
    "fit(net2, md, n_epochs=1, crit=loss, opt=opt, metrics=metrics)"
   ]
  },
  {
   "cell_type": "code",
   "execution_count": 242,
   "metadata": {},
   "outputs": [],
   "source": [
    "xmb, ymb = next(iter(md.trn_dl))\n",
    "vxmb = Variable(xmb)\n",
    "preds = net2(vxmb).exp()"
   ]
  },
  {
   "cell_type": "code",
   "execution_count": 284,
   "metadata": {
    "scrolled": false
   },
   "outputs": [
    {
     "data": {
      "text/plain": [
       "(Variable containing:\n",
       "  8\n",
       "  7\n",
       "  7\n",
       " [torch.LongTensor of size 3], \n",
       "  8\n",
       "  7\n",
       "  7\n",
       " [torch.LongTensor of size 3])"
      ]
     },
     "execution_count": 284,
     "metadata": {},
     "output_type": "execute_result"
    }
   ],
   "source": [
    "_, ps = preds.max(dim=1)\n",
    "ps[:3], ymb[:3]"
   ]
  },
  {
   "cell_type": "markdown",
   "metadata": {},
   "source": [
    "# Aside about Broadcasting and Matrix Multiplication"
   ]
  },
  {
   "cell_type": "markdown",
   "metadata": {},
   "source": [
    "##  Element-wise operations"
   ]
  },
  {
   "cell_type": "code",
   "execution_count": 293,
   "metadata": {},
   "outputs": [],
   "source": [
    "a = T([10, 6, -4])\n",
    "b = T([2, 8, 7])\n",
    "an = np.array([10, 6, -4])\n",
    "bn = np.array([2, 8, 7])"
   ]
  },
  {
   "cell_type": "code",
   "execution_count": 287,
   "metadata": {},
   "outputs": [
    {
     "data": {
      "text/plain": [
       "\n",
       " 12\n",
       " 14\n",
       "  3\n",
       "[torch.LongTensor of size 3]"
      ]
     },
     "execution_count": 287,
     "metadata": {},
     "output_type": "execute_result"
    }
   ],
   "source": [
    "a + b"
   ]
  },
  {
   "cell_type": "code",
   "execution_count": 288,
   "metadata": {},
   "outputs": [
    {
     "data": {
      "text/plain": [
       "\n",
       "  8\n",
       " -2\n",
       "-11\n",
       "[torch.LongTensor of size 3]"
      ]
     },
     "execution_count": 288,
     "metadata": {},
     "output_type": "execute_result"
    }
   ],
   "source": [
    "a - b"
   ]
  },
  {
   "cell_type": "code",
   "execution_count": 298,
   "metadata": {},
   "outputs": [
    {
     "data": {
      "text/plain": [
       "(40, 40)"
      ]
     },
     "execution_count": 298,
     "metadata": {},
     "output_type": "execute_result"
    }
   ],
   "source": [
    "a @ b, an @ bn"
   ]
  },
  {
   "cell_type": "markdown",
   "metadata": {},
   "source": [
    "## Broadcasting"
   ]
  },
  {
   "cell_type": "code",
   "execution_count": 299,
   "metadata": {},
   "outputs": [],
   "source": [
    "c = np.array([10, 20, 30])"
   ]
  },
  {
   "cell_type": "code",
   "execution_count": 300,
   "metadata": {},
   "outputs": [
    {
     "data": {
      "text/plain": [
       "array([[10, 20, 30],\n",
       "       [10, 20, 30],\n",
       "       [10, 20, 30]])"
      ]
     },
     "execution_count": 300,
     "metadata": {},
     "output_type": "execute_result"
    }
   ],
   "source": [
    "np.broadcast_to(c, (3,3))"
   ]
  },
  {
   "cell_type": "code",
   "execution_count": 306,
   "metadata": {},
   "outputs": [
    {
     "data": {
      "text/plain": [
       "array([[100, 200, 300],\n",
       "       [200, 400, 600],\n",
       "       [300, 600, 900]])"
      ]
     },
     "execution_count": 306,
     "metadata": {},
     "output_type": "execute_result"
    }
   ],
   "source": [
    "c[None] * c[:, None]"
   ]
  },
  {
   "cell_type": "markdown",
   "metadata": {},
   "source": [
    "# Writing Our Own Training Loop"
   ]
  },
  {
   "cell_type": "code",
   "execution_count": 314,
   "metadata": {},
   "outputs": [
    {
     "data": {
      "application/vnd.jupyter.widget-view+json": {
       "model_id": "4bf30a9c5410445e8bc7f085264fe781",
       "version_major": 2,
       "version_minor": 0
      },
      "text/plain": [
       "HBox(children=(IntProgress(value=0, description='Epoch', max=1, style=ProgressStyle(description_width='initial…"
      ]
     },
     "metadata": {},
     "output_type": "display_data"
    },
    {
     "name": "stdout",
     "output_type": "stream",
     "text": [
      "epoch      trn_loss   val_loss   accuracy                     \n",
      "    0      0.329762   0.289765   0.9183    \n",
      "\n"
     ]
    },
    {
     "data": {
      "text/plain": [
       "[array([0.28977]), 0.9183]"
      ]
     },
     "execution_count": 314,
     "metadata": {},
     "output_type": "execute_result"
    }
   ],
   "source": [
    "md = ImageClassifierData.from_arrays(PATH, (data.x, data.y),\n",
    "                                     (data.x_valid, data.y_valid))\n",
    "net3 = LogReg()\n",
    "opt3 = optim.Adam(net3.parameters(), lr=1e-3)\n",
    "loss = nn.NLLLoss()\n",
    "metrics = [accuracy]\n",
    "fit(net3, md, n_epochs=1, crit=loss, opt=opt3, metrics=metrics)"
   ]
  },
  {
   "cell_type": "code",
   "execution_count": null,
   "metadata": {},
   "outputs": [],
   "source": [
    "md = ImageClassifierData.from_arrays(PATH, (data.x, data.y),\n",
    "                                     (data.x_valid, data.y_valid))"
   ]
  },
  {
   "cell_type": "code",
   "execution_count": null,
   "metadata": {},
   "outputs": [],
   "source": []
  },
  {
   "cell_type": "code",
   "execution_count": 408,
   "metadata": {},
   "outputs": [],
   "source": [
    "%xdel net4\n"
   ]
  },
  {
   "cell_type": "code",
   "execution_count": 433,
   "metadata": {
    "scrolled": false
   },
   "outputs": [],
   "source": [
    "def myfit(md, lr=1e-2, epcount=1):\n",
    "    def score(nnet, x, y):\n",
    "        y_pred = to_np(nnet(Variable(x)))\n",
    "        return np.sum(y_pred.argmax(axis=1) == to_np(y)) / len(y_pred)\n",
    "\n",
    "    net = LogReg()\n",
    "    opt = optim.SGD(net.parameters(), lr=lr)\n",
    "    loss = nn.NLLLoss()\n",
    "    metrics = [accuracy]\n",
    "    losses = []\n",
    "    for ep in range(epcount):\n",
    "        print('ep', ep + 1)\n",
    "        t = 0\n",
    "        for xt, yt in md.trn_dl:\n",
    "            y_pred = net(Variable(xt))\n",
    "            l = loss(y_pred, Variable(yt))\n",
    "            losses.append(l)\n",
    "            t += 1\n",
    "            if t % 10 == 0:\n",
    "                print('.', end='')\n",
    "            opt.zero_grad()\n",
    "            l.backward()\n",
    "            opt.step()\n",
    "        accuracies = [score(net, *xy) for xy in md.val_dl]\n",
    "        print()\n",
    "        print('%0.5f' % np.mean(accuracies))\n",
    "    return net, accuracies, losses"
   ]
  },
  {
   "cell_type": "code",
   "execution_count": 439,
   "metadata": {},
   "outputs": [
    {
     "name": "stdout",
     "output_type": "stream",
     "text": [
      "ep 1\n",
      "..............................................................................\n",
      "0.90943\n"
     ]
    }
   ],
   "source": [
    " myfit(md);"
   ]
  },
  {
   "cell_type": "markdown",
   "metadata": {},
   "source": [
    "# Stochastic Gradient Descent (SGD)"
   ]
  },
  {
   "cell_type": "code",
   "execution_count": 441,
   "metadata": {},
   "outputs": [],
   "source": [
    "def myfit_opt(md, lr=1e-2, epcount=1):\n",
    "    def score(nnet, x, y):\n",
    "        y_pred = to_np(nnet(Variable(x)))\n",
    "        return np.sum(y_pred.argmax(axis=1) == to_np(y)) / len(y_pred)\n",
    "\n",
    "    net = LogReg()\n",
    "    loss = nn.NLLLoss()\n",
    "    metrics = [accuracy]\n",
    "    losses = []\n",
    "    w, b = net.l1_w, net.l1_b\n",
    "    for ep in range(epcount):\n",
    "        print('ep', ep + 1)\n",
    "        t = 0\n",
    "        for xt, yt in md.trn_dl:\n",
    "            y_pred = net(Variable(xt))\n",
    "            l = loss(y_pred, Variable(yt))\n",
    "            losses.append(l)\n",
    "            t += 1\n",
    "            if t % 10 == 0:\n",
    "                print('.', end='')\n",
    "\n",
    "            # backward pass: compute gradient wrt model parameters\n",
    "            l.backward()\n",
    "\n",
    "            w.data -= w.grad.data * lr\n",
    "            b.data -= b.grad.data * lr\n",
    "\n",
    "            # NOTE: xxx_ underscore in pytorch means `inplace`\n",
    "            w.grad.data.zero_()\n",
    "            b.grad.data.zero_()\n",
    "\n",
    "        accuracies = [score(net, *xy) for xy in md.val_dl]\n",
    "        print()\n",
    "        print('%0.5f' % np.mean(accuracies))\n",
    "    return net, accuracies, losses"
   ]
  },
  {
   "cell_type": "code",
   "execution_count": 442,
   "metadata": {},
   "outputs": [
    {
     "name": "stdout",
     "output_type": "stream",
     "text": [
      "ep 1\n",
      "..............................................................................\n",
      "0.90804\n"
     ]
    }
   ],
   "source": [
    "myfit_opt(md);"
   ]
  },
  {
   "cell_type": "markdown",
   "metadata": {},
   "source": [
    "# Fitting the model"
   ]
  },
  {
   "cell_type": "code",
   "execution_count": 468,
   "metadata": {},
   "outputs": [
    {
     "data": {
      "application/vnd.jupyter.widget-view+json": {
       "model_id": "c14fdb0cab58453291cce1e5f5751398",
       "version_major": 2,
       "version_minor": 0
      },
      "text/plain": [
       "HBox(children=(IntProgress(value=0, description='Epoch', max=5, style=ProgressStyle(description_width='initial…"
      ]
     },
     "metadata": {},
     "output_type": "display_data"
    },
    {
     "name": "stdout",
     "output_type": "stream",
     "text": [
      "epoch      trn_loss   val_loss   accuracy                     \n",
      "    0      0.193136   0.165346   0.9531    \n",
      "    1      0.120785   0.111747   0.9681                       \n",
      "    2      0.08093    0.092411   0.9739                        \n",
      "    3      0.07788    0.085977   0.9752                        \n",
      "    4      0.058111   0.088635   0.9737                        \n",
      "\n"
     ]
    },
    {
     "data": {
      "application/vnd.jupyter.widget-view+json": {
       "model_id": "78253bf642a24f7181c10b4d7b327808",
       "version_major": 2,
       "version_minor": 0
      },
      "text/plain": [
       "HBox(children=(IntProgress(value=0, description='Epoch', max=3, style=ProgressStyle(description_width='initial…"
      ]
     },
     "metadata": {},
     "output_type": "display_data"
    },
    {
     "name": "stdout",
     "output_type": "stream",
     "text": [
      "epoch      trn_loss   val_loss   accuracy                      \n",
      "    0      0.050727   0.074681   0.9792    \n",
      "    1      0.044207   0.075302   0.9788                        \n",
      "    2      0.046645   0.078144   0.9776                        \n",
      "\n"
     ]
    },
    {
     "data": {
      "text/plain": [
       "[array([0.07814]), 0.9776]"
      ]
     },
     "execution_count": 468,
     "metadata": {},
     "output_type": "execute_result"
    }
   ],
   "source": [
    "net = nn.Sequential(\n",
    "    nn.Linear(28 * 28, 100), nn.ReLU(), nn.Linear(100, 100), nn.ReLU(),\n",
    "    nn.Linear(100, 10), nn.LogSoftmax())\n",
    "opt = optim.SGD(net.parameters(), lr=1e-2, momentum=0.9, weight_decay=1e-3)\n",
    "loss = nn.NLLLoss()\n",
    "fit(net, md, n_epochs=5, crit=nn.NLLLoss(), opt=opt, metrics=[accuracy])\n",
    "# Learning rate annealing:\n",
    "set_lrs(opt, 1e-2)\n",
    "fit(net, md, n_epochs=3, crit=nn.NLLLoss(), opt=opt, metrics=[accuracy])"
   ]
  },
  {
   "cell_type": "markdown",
   "metadata": {},
   "source": [
    "*Regularization:*\n",
    "```\n",
    "L1 = a*|W|\n",
    "L2 = a*W^2\n",
    "where a is regularization parameter\n",
    "```"
   ]
  },
  {
   "cell_type": "markdown",
   "metadata": {},
   "source": [
    "mm"
   ]
  },
  {
   "cell_type": "code",
   "execution_count": null,
   "metadata": {},
   "outputs": [],
   "source": []
  }
 ],
 "metadata": {
  "kernelspec": {
   "display_name": "Python 3",
   "language": "python",
   "name": "python3"
  },
  "language_info": {
   "codemirror_mode": {
    "name": "ipython",
    "version": 3
   },
   "file_extension": ".py",
   "mimetype": "text/x-python",
   "name": "python",
   "nbconvert_exporter": "python",
   "pygments_lexer": "ipython3",
   "version": "3.6.8"
  },
  "toc": {
   "base_numbering": 1,
   "nav_menu": {},
   "number_sections": true,
   "sideBar": true,
   "skip_h1_title": false,
   "title_cell": "Table of Contents",
   "title_sidebar": "Contents",
   "toc_cell": false,
   "toc_position": {
    "height": "calc(100% - 180px)",
    "left": "10px",
    "top": "150px",
    "width": "256px"
   },
   "toc_section_display": true,
   "toc_window_display": true
  }
 },
 "nbformat": 4,
 "nbformat_minor": 2
}
